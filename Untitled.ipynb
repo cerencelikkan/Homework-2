{
 "cells": [
  {
   "cell_type": "markdown",
   "id": "c851135f",
   "metadata": {},
   "source": [
    "**4 Lists**"
   ]
  },
  {
   "cell_type": "markdown",
   "id": "a4405c46",
   "metadata": {},
   "source": [
    "Exercise 4.1: Short questions"
   ]
  },
  {
   "cell_type": "code",
   "execution_count": 22,
   "id": "196905c7",
   "metadata": {},
   "outputs": [],
   "source": [
    "#a\n",
    "def list_print(list):\n",
    "    for i in range(0,len(list)):\n",
    "        print(i)"
   ]
  },
  {
   "cell_type": "code",
   "execution_count": 23,
   "id": "50c085ea",
   "metadata": {},
   "outputs": [
    {
     "name": "stdout",
     "output_type": "stream",
     "text": [
      "5\n",
      "4\n",
      "3\n",
      "2\n",
      "1\n"
     ]
    }
   ],
   "source": [
    "#b\n",
    "list= [1,2,3,4,5]\n",
    "for item in reversed(list):\n",
    "    print(item)"
   ]
  },
  {
   "cell_type": "code",
   "execution_count": 37,
   "id": "1e29d79c",
   "metadata": {},
   "outputs": [],
   "source": [
    "#c\n",
    "def Lengthof(list):\n",
    "    count = 0\n",
    "    for i in list:\n",
    "        count+= 1\n",
    "        return count\n",
    "\n"
   ]
  },
  {
   "cell_type": "markdown",
   "id": "301ebce2",
   "metadata": {},
   "source": [
    "Exercise 4.2: Copying lists\n"
   ]
  },
  {
   "cell_type": "code",
   "execution_count": 38,
   "id": "07eb3cd5",
   "metadata": {},
   "outputs": [],
   "source": [
    "#a\n",
    "a=[7,'antalya',34,'istanbul',6,'ankara']"
   ]
  },
  {
   "cell_type": "code",
   "execution_count": 39,
   "id": "a3a5cf74",
   "metadata": {},
   "outputs": [],
   "source": [
    "#b\n",
    "b=a"
   ]
  },
  {
   "cell_type": "code",
   "execution_count": 43,
   "id": "7bdeb65d",
   "metadata": {},
   "outputs": [],
   "source": [
    "#c\n",
    "b[1]='ANTALYA'"
   ]
  },
  {
   "cell_type": "markdown",
   "id": "06bc6d2d",
   "metadata": {},
   "source": [
    "#d\n",
    "We have set b equal to a, so any changes to them will affect both a and b, for example changing b[1] changes a[1] as well."
   ]
  },
  {
   "cell_type": "code",
   "execution_count": 48,
   "id": "2948f114",
   "metadata": {},
   "outputs": [],
   "source": [
    "#e\n",
    "c= a[:]"
   ]
  },
  {
   "cell_type": "code",
   "execution_count": 50,
   "id": "7e9b7c8f",
   "metadata": {},
   "outputs": [],
   "source": [
    "#f\n",
    "c[2]=35"
   ]
  },
  {
   "cell_type": "code",
   "execution_count": 51,
   "id": "4e7c1c6a",
   "metadata": {},
   "outputs": [
    {
     "data": {
      "text/plain": [
       "[7, 'ANTALYA', 34, 'istanbul', 6, 'ankara']"
      ]
     },
     "execution_count": 51,
     "metadata": {},
     "output_type": "execute_result"
    }
   ],
   "source": [
    "#g\n",
    "a\n",
    "#The changes did not affect a."
   ]
  },
  {
   "cell_type": "code",
   "execution_count": 55,
   "id": "4c576572",
   "metadata": {},
   "outputs": [],
   "source": [
    "def set_first_elem_to_zero(list):\n",
    "    list[0] = 0\n",
    "    return list\n",
    "#The changes on the list were made in and outside of the function."
   ]
  },
  {
   "cell_type": "markdown",
   "id": "d9ee960b",
   "metadata": {},
   "source": [
    "Exercise 4.3: Lists of Lists"
   ]
  },
  {
   "cell_type": "code",
   "execution_count": 62,
   "id": "a2f48a03",
   "metadata": {},
   "outputs": [],
   "source": [
    "a = [[]] * 3\n",
    "b = [[] for _ in range(3)]\n",
    "#There are no differences. They are identical.\n"
   ]
  },
  {
   "cell_type": "markdown",
   "id": "7d8a5d41",
   "metadata": {},
   "source": [
    "Exercise 4.4: Lists and functions"
   ]
  },
  {
   "cell_type": "code",
   "execution_count": 63,
   "id": "1f4bb275",
   "metadata": {},
   "outputs": [],
   "source": [
    "def set_to_zero(list, index):\n",
    "    list[index] = 0\n",
    "    return list"
   ]
  },
  {
   "cell_type": "markdown",
   "id": "ef66d3e0",
   "metadata": {},
   "source": [
    "Exercise 4.5: Primes"
   ]
  },
  {
   "cell_type": "code",
   "execution_count": 64,
   "id": "a4ddddbb",
   "metadata": {},
   "outputs": [],
   "source": [
    "def print_primes(n):\n",
    "    primes=[]\n",
    "    for i in range (0, n):\n",
    "        if (is_prime(i)):\n",
    "            primes.append(i)\n",
    "    return primes"
   ]
  },
  {
   "cell_type": "markdown",
   "id": "5169e91a",
   "metadata": {},
   "source": [
    "Exercise 4.6 List Comprehensions"
   ]
  },
  {
   "cell_type": "code",
   "execution_count": 71,
   "id": "f92caae7",
   "metadata": {},
   "outputs": [
    {
     "data": {
      "text/plain": [
       "[[1, 1],\n",
       " [1, 2],\n",
       " [1, 3],\n",
       " [1, 4],\n",
       " [1, 5],\n",
       " [1, 6],\n",
       " [1, 7],\n",
       " [1, 8],\n",
       " [1, 9],\n",
       " [1, 10],\n",
       " [2, 1],\n",
       " [2, 2],\n",
       " [2, 3],\n",
       " [2, 4],\n",
       " [2, 5],\n",
       " [2, 6],\n",
       " [2, 7],\n",
       " [2, 8],\n",
       " [2, 9],\n",
       " [2, 10],\n",
       " [3, 1],\n",
       " [3, 2],\n",
       " [3, 3],\n",
       " [3, 4],\n",
       " [3, 5],\n",
       " [3, 6],\n",
       " [3, 7],\n",
       " [3, 8],\n",
       " [3, 9],\n",
       " [3, 10],\n",
       " [4, 1],\n",
       " [4, 2],\n",
       " [4, 3],\n",
       " [4, 4],\n",
       " [4, 5],\n",
       " [4, 6],\n",
       " [4, 7],\n",
       " [4, 8],\n",
       " [4, 9],\n",
       " [4, 10],\n",
       " [5, 1],\n",
       " [5, 2],\n",
       " [5, 3],\n",
       " [5, 4],\n",
       " [5, 5],\n",
       " [5, 6],\n",
       " [5, 7],\n",
       " [5, 8],\n",
       " [5, 9],\n",
       " [5, 10],\n",
       " [6, 1],\n",
       " [6, 2],\n",
       " [6, 3],\n",
       " [6, 4],\n",
       " [6, 5],\n",
       " [6, 6],\n",
       " [6, 7],\n",
       " [6, 8],\n",
       " [6, 9],\n",
       " [6, 10],\n",
       " [7, 1],\n",
       " [7, 2],\n",
       " [7, 3],\n",
       " [7, 4],\n",
       " [7, 5],\n",
       " [7, 6],\n",
       " [7, 7],\n",
       " [7, 8],\n",
       " [7, 9],\n",
       " [7, 10],\n",
       " [8, 1],\n",
       " [8, 2],\n",
       " [8, 3],\n",
       " [8, 4],\n",
       " [8, 5],\n",
       " [8, 6],\n",
       " [8, 7],\n",
       " [8, 8],\n",
       " [8, 9],\n",
       " [8, 10],\n",
       " [9, 1],\n",
       " [9, 2],\n",
       " [9, 3],\n",
       " [9, 4],\n",
       " [9, 5],\n",
       " [9, 6],\n",
       " [9, 7],\n",
       " [9, 8],\n",
       " [9, 9],\n",
       " [9, 10],\n",
       " [10, 1],\n",
       " [10, 2],\n",
       " [10, 3],\n",
       " [10, 4],\n",
       " [10, 5],\n",
       " [10, 6],\n",
       " [10, 7],\n",
       " [10, 8],\n",
       " [10, 9],\n",
       " [10, 10]]"
      ]
     },
     "execution_count": 71,
     "metadata": {},
     "output_type": "execute_result"
    }
   ],
   "source": [
    "#a\n",
    "ints = [1,2,3,4,5,6,7,8,9,10]\n",
    "[[i, j] for i in ints for j in ints]"
   ]
  },
  {
   "cell_type": "code",
   "execution_count": 73,
   "id": "0a9af77b",
   "metadata": {},
   "outputs": [
    {
     "data": {
      "text/plain": [
       "[[1, 2],\n",
       " [1, 3],\n",
       " [1, 4],\n",
       " [1, 5],\n",
       " [1, 6],\n",
       " [1, 7],\n",
       " [1, 8],\n",
       " [1, 9],\n",
       " [1, 10],\n",
       " [2, 3],\n",
       " [2, 4],\n",
       " [2, 5],\n",
       " [2, 6],\n",
       " [2, 7],\n",
       " [2, 8],\n",
       " [2, 9],\n",
       " [2, 10],\n",
       " [3, 4],\n",
       " [3, 5],\n",
       " [3, 6],\n",
       " [3, 7],\n",
       " [3, 8],\n",
       " [3, 9],\n",
       " [3, 10],\n",
       " [4, 5],\n",
       " [4, 6],\n",
       " [4, 7],\n",
       " [4, 8],\n",
       " [4, 9],\n",
       " [4, 10],\n",
       " [5, 6],\n",
       " [5, 7],\n",
       " [5, 8],\n",
       " [5, 9],\n",
       " [5, 10],\n",
       " [6, 7],\n",
       " [6, 8],\n",
       " [6, 9],\n",
       " [6, 10],\n",
       " [7, 8],\n",
       " [7, 9],\n",
       " [7, 10],\n",
       " [8, 9],\n",
       " [8, 10],\n",
       " [9, 10]]"
      ]
     },
     "execution_count": 73,
     "metadata": {},
     "output_type": "execute_result"
    }
   ],
   "source": [
    "#b\n",
    "[[i, j] for i in ints for j in ints if i<j]"
   ]
  },
  {
   "cell_type": "code",
   "execution_count": 75,
   "id": "09d42a0f",
   "metadata": {},
   "outputs": [
    {
     "data": {
      "text/plain": [
       "[[3],\n",
       " [4],\n",
       " [5],\n",
       " [5],\n",
       " [6],\n",
       " [7],\n",
       " [6],\n",
       " [7],\n",
       " [8],\n",
       " [9],\n",
       " [7],\n",
       " [8],\n",
       " [9],\n",
       " [10],\n",
       " [11],\n",
       " [8],\n",
       " [9],\n",
       " [10],\n",
       " [11],\n",
       " [12],\n",
       " [13],\n",
       " [9],\n",
       " [10],\n",
       " [11],\n",
       " [12],\n",
       " [13],\n",
       " [14],\n",
       " [15],\n",
       " [10],\n",
       " [11],\n",
       " [12],\n",
       " [13],\n",
       " [14],\n",
       " [15],\n",
       " [16],\n",
       " [17],\n",
       " [11],\n",
       " [12],\n",
       " [13],\n",
       " [14],\n",
       " [15],\n",
       " [16],\n",
       " [17],\n",
       " [18],\n",
       " [19]]"
      ]
     },
     "execution_count": 75,
     "metadata": {},
     "output_type": "execute_result"
    }
   ],
   "source": [
    "#c\n",
    "[[i+j] for i in ints for j in ints if i>j]"
   ]
  },
  {
   "cell_type": "code",
   "execution_count": 76,
   "id": "ea9d5990",
   "metadata": {},
   "outputs": [
    {
     "ename": "SyntaxError",
     "evalue": "invalid syntax (<ipython-input-76-7c5a1bf3eba0>, line 2)",
     "output_type": "error",
     "traceback": [
      "\u001b[1;36m  File \u001b[1;32m\"<ipython-input-76-7c5a1bf3eba0>\"\u001b[1;36m, line \u001b[1;32m2\u001b[0m\n\u001b[1;33m    [[i, j] for i in ints for j in ints i0 + i1j + i2j2 + . . . + injn]\u001b[0m\n\u001b[1;37m                                        ^\u001b[0m\n\u001b[1;31mSyntaxError\u001b[0m\u001b[1;31m:\u001b[0m invalid syntax\n"
     ]
    }
   ],
   "source": [
    "#d\n",
    "[[i, j] for i in ints for j in ints i0 + i1j + i2j2 + . . . + injn]"
   ]
  },
  {
   "cell_type": "markdown",
   "id": "011ee797",
   "metadata": {},
   "source": [
    "Exercise 4.7 Filter"
   ]
  },
  {
   "cell_type": "code",
   "execution_count": 70,
   "id": "724fa10f",
   "metadata": {},
   "outputs": [],
   "source": [
    "def myfilter(x,object):\n",
    "    return [x for x in object]"
   ]
  },
  {
   "cell_type": "markdown",
   "id": "cbf18eb6",
   "metadata": {},
   "source": [
    "Exercise 4.8: Flatten a list of lists"
   ]
  },
  {
   "cell_type": "code",
   "execution_count": 77,
   "id": "1265f962",
   "metadata": {},
   "outputs": [],
   "source": [
    "def flatten(listoflists):\n",
    "    unique_list = []\n",
    "    for item in listoflists:\n",
    "        for element in item:\n",
    "            unique_list.append(element)\n",
    "    return unique_list"
   ]
  },
  {
   "cell_type": "markdown",
   "id": "cf4b56b0",
   "metadata": {},
   "source": [
    "Exercise 4.9: Finding the longest word"
   ]
  },
  {
   "cell_type": "code",
   "execution_count": 78,
   "id": "e4afaeb2",
   "metadata": {},
   "outputs": [],
   "source": [
    "import re\n",
    "def findinglongestword(line):\n",
    "    words = line.split()\n",
    "    longest = 0\n",
    "    theWord = \"\"\n",
    "    for item in words:\n",
    "        item = re.sub(r'\\W+', '', item)\n",
    "        if (len(item)>=longest):\n",
    "            longest = len(item)\n",
    "            theWord = item\n",
    "    return theWord"
   ]
  },
  {
   "cell_type": "markdown",
   "id": "c33459ac",
   "metadata": {},
   "source": [
    "Exercise 4.10: Collatz sequence, part 2\n"
   ]
  },
  {
   "cell_type": "code",
   "execution_count": null,
   "id": "336119fe",
   "metadata": {},
   "outputs": [],
   "source": [
    "#a\n",
    "def collatz_sequence_parttwo(collatz):\n",
    "    collizt = []\n",
    "    while (collatz!=1):\n",
    "        if (collatz % 2 == 1): \n",
    "            collatz = 3 * collatz + 1\n",
    "            collizt.append(collatz)\n",
    "        elif (collatz % 2 == 0):\n",
    "            collatz = collatz / 2\n",
    "            collizt.append(collatz)\n",
    "    return collizt"
   ]
  },
  {
   "cell_type": "code",
   "execution_count": null,
   "id": "27c62178",
   "metadata": {},
   "outputs": [],
   "source": [
    "#b\n",
    "def longestcollatz(n):\n",
    "    longest = 0\n",
    "    longest_n = 0\n",
    "    for i in range(n):\n",
    "        result = collatz_sequence_parttwo(i)\n",
    "        length = result[1]\n",
    "        if (length >= longest):\n",
    "            longest = length\n",
    "            longest_n = i\n",
    "    return longest_n"
   ]
  },
  {
   "cell_type": "markdown",
   "id": "148c1ed6",
   "metadata": {},
   "source": [
    "Exercise 4.11: Pivots"
   ]
  },
  {
   "cell_type": "code",
   "execution_count": 92,
   "id": "0f799d98",
   "metadata": {},
   "outputs": [],
   "source": [
    "def sort_values(n, list):\n",
    "    list.sort()\n",
    "    for x in list:\n",
    "        if (x >= n):\n",
    "            list.insert(list.index(x), n)\n",
    "            return list\n",
    "    return []"
   ]
  },
  {
   "cell_type": "markdown",
   "id": "9caa5634",
   "metadata": {},
   "source": [
    "Exercise 4.12: Prime challenge"
   ]
  },
  {
   "cell_type": "code",
   "execution_count": 93,
   "id": "13010eb8",
   "metadata": {},
   "outputs": [],
   "source": [
    "def Primes(n):\n",
    "    if n <= 1:\n",
    "        return false\n",
    "    for i in range(2,n):\n",
    "        if n%i == 0:\n",
    "            return false\n",
    "        return true\n",
    "    \n"
   ]
  },
  {
   "cell_type": "markdown",
   "id": "e880b49a",
   "metadata": {},
   "source": [
    "**5 Tuples**"
   ]
  },
  {
   "cell_type": "markdown",
   "id": "d1092898",
   "metadata": {},
   "source": [
    "Exercise 5.1: Swapping two values"
   ]
  },
  {
   "cell_type": "code",
   "execution_count": 95,
   "id": "4f00b041",
   "metadata": {},
   "outputs": [],
   "source": [
    "a,b =b,a"
   ]
  },
  {
   "cell_type": "markdown",
   "id": "1e2956a6",
   "metadata": {},
   "source": [
    "Exercise 5.2: Zip"
   ]
  },
  {
   "cell_type": "code",
   "execution_count": 5,
   "id": "84701614",
   "metadata": {},
   "outputs": [
    {
     "name": "stdout",
     "output_type": "stream",
     "text": [
      "x:  [10, 11, 12, 13]\n",
      "y:  [14, 15, 16, 17]\n"
     ]
    }
   ],
   "source": [
    "x= [10,11,12,13]\n",
    "y = [14,15,16,17]\n",
    "zip_tuple = zip(x, y)\n",
    "#In this segment of code we have used zip function in order to join two tuples together.\n",
    "\n",
    "#zip to unzip\n",
    "\n",
    "x, y = map(list, zip(*zip_tuple))\n",
    "print(\"x: \", x)\n",
    "print(\"y: \", y)"
   ]
  },
  {
   "cell_type": "markdown",
   "id": "c24a758f",
   "metadata": {},
   "source": [
    "Exercise 5.3: Distances"
   ]
  },
  {
   "cell_type": "code",
   "execution_count": 2,
   "id": "0f057e29",
   "metadata": {},
   "outputs": [
    {
     "name": "stdout",
     "output_type": "stream",
     "text": [
      "[-2, -2]\n"
     ]
    }
   ],
   "source": [
    "x= [1,2]\n",
    "y= [3,4]\n",
    "\n",
    "distance = list()\n",
    "for i in range(len(x)):\n",
    "    item = x[i] - y[i]\n",
    "    distance.append(item)\n",
    "    \n",
    "print(distance)"
   ]
  },
  {
   "cell_type": "markdown",
   "id": "2da4bf26",
   "metadata": {},
   "source": [
    "**6 Dictionaries**"
   ]
  },
  {
   "cell_type": "markdown",
   "id": "c75d5d31",
   "metadata": {},
   "source": [
    "Exercise 6.1: Printing a dictionary"
   ]
  },
  {
   "cell_type": "code",
   "execution_count": 6,
   "id": "25bb2033",
   "metadata": {},
   "outputs": [],
   "source": [
    "def dict_print(dict):\n",
    "    for key, value in dict.items():\n",
    "        print (key + \": \" + value)"
   ]
  },
  {
   "cell_type": "markdown",
   "id": "d522ea5e",
   "metadata": {},
   "source": [
    "Exercise 6.2: Histogram"
   ]
  },
  {
   "cell_type": "code",
   "execution_count": 7,
   "id": "bd549926",
   "metadata": {},
   "outputs": [],
   "source": [
    "def histogram(list):\n",
    "    dict = {};\n",
    "    for item in list:\n",
    "        if item in dict:\n",
    "            value = dict[item];\n",
    "            value += 1;\n",
    "            dict[item] = value;\n",
    "        else:\n",
    "            dict[item] = 1;\n",
    "    print (dict)"
   ]
  },
  {
   "cell_type": "markdown",
   "id": "2a65c7eb",
   "metadata": {},
   "source": [
    "Exercise 6.3: Get method"
   ]
  },
  {
   "cell_type": "code",
   "execution_count": 8,
   "id": "abd546bd",
   "metadata": {},
   "outputs": [],
   "source": [
    "def getfrom_dictionary(key, default = False):\n",
    "    if key not in dict_: return default\n",
    "    else: \n",
    "        return dict_[key]"
   ]
  },
  {
   "cell_type": "markdown",
   "id": "a0a6e1f7",
   "metadata": {},
   "source": [
    "Exercise 6.4: Random text generator"
   ]
  },
  {
   "cell_type": "markdown",
   "id": "0f34a2d0",
   "metadata": {},
   "source": [
    "I couldnt do this question."
   ]
  },
  {
   "cell_type": "markdown",
   "id": "664e13bd",
   "metadata": {},
   "source": [
    "Exercise 6.5: Vector functions"
   ]
  },
  {
   "cell_type": "code",
   "execution_count": 12,
   "id": "621acbe1",
   "metadata": {},
   "outputs": [
    {
     "ename": "IndentationError",
     "evalue": "unindent does not match any outer indentation level (<tokenize>, line 7)",
     "output_type": "error",
     "traceback": [
      "\u001b[1;36m  File \u001b[1;32m\"<tokenize>\"\u001b[1;36m, line \u001b[1;32m7\u001b[0m\n\u001b[1;33m    print(vector_final)\u001b[0m\n\u001b[1;37m    ^\u001b[0m\n\u001b[1;31mIndentationError\u001b[0m\u001b[1;31m:\u001b[0m unindent does not match any outer indentation level\n"
     ]
    }
   ],
   "source": [
    "#a\n",
    "def additionvectors(vector1, vector2):\n",
    "    vector_final=[]\n",
    "    for x, y in zip(vector1, vector2):\n",
    "            coordinate = x + y\n",
    "            vector_final.append(coordinate)\n",
    "        print(vector_final)"
   ]
  },
  {
   "cell_type": "code",
   "execution_count": null,
   "id": "4e225577",
   "metadata": {},
   "outputs": [],
   "source": [
    "#b\n",
    "import numpy\n",
    "def dense_dotproduct(vector1, vector2):\n",
    "    product = numpy.dot(vector1, vector2)\n",
    "    print(product)"
   ]
  },
  {
   "cell_type": "markdown",
   "id": "a48e3b16",
   "metadata": {},
   "source": [
    "#c\n",
    "Could not do this one"
   ]
  },
  {
   "cell_type": "code",
   "execution_count": null,
   "id": "374be279",
   "metadata": {},
   "outputs": [],
   "source": [
    "#d \n",
    "import numpy\n",
    "def convert_sparsetodense(dict):\n",
    "    vector_list = []\n",
    "    for key, value in dict.items():\n",
    "        vector_list.append(value)\n",
    "    return vector_list\n",
    "\n",
    "def sparse_dotproduct(vector1, vector2):\n",
    "    vector1 = convert_sparse_to_dense(vector1)\n",
    "    vector2 = convert_sparse_to_dense(vector2)   \n",
    "    product = numpy.dot(vector1, vector2)\n",
    "    print(product)"
   ]
  },
  {
   "cell_type": "markdown",
   "id": "5cc087b3",
   "metadata": {},
   "source": [
    "#e Could not do this one"
   ]
  },
  {
   "cell_type": "markdown",
   "id": "d66e5cc6",
   "metadata": {},
   "source": [
    "#f Could not do this one"
   ]
  },
  {
   "cell_type": "markdown",
   "id": "f5049cf4",
   "metadata": {},
   "source": [
    "Exercise 6.6: Reverse look-up\n"
   ]
  },
  {
   "cell_type": "code",
   "execution_count": 13,
   "id": "11c180ea",
   "metadata": {},
   "outputs": [],
   "source": [
    "def key_finder(dict, values):\n",
    "    for key, value in dict.items():\n",
    "        if (value == values):\n",
    "            print (key)"
   ]
  }
 ],
 "metadata": {
  "kernelspec": {
   "display_name": "Python 3",
   "language": "python",
   "name": "python3"
  },
  "language_info": {
   "codemirror_mode": {
    "name": "ipython",
    "version": 3
   },
   "file_extension": ".py",
   "mimetype": "text/x-python",
   "name": "python",
   "nbconvert_exporter": "python",
   "pygments_lexer": "ipython3",
   "version": "3.8.8"
  }
 },
 "nbformat": 4,
 "nbformat_minor": 5
}
